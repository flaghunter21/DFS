{
  "nbformat": 4,
  "nbformat_minor": 0,
  "metadata": {
    "colab": {
      "name": "Small Slate MLB Combo Backtest.ipynb",
      "provenance": [],
      "machine_shape": "hm",
      "authorship_tag": "ABX9TyMDlBOThlu49jySCsFlqL37",
      "include_colab_link": true
    },
    "kernelspec": {
      "name": "python3",
      "display_name": "Python 3"
    },
    "language_info": {
      "name": "python"
    },
    "gpuClass": "standard"
  },
  "cells": [
    {
      "cell_type": "markdown",
      "metadata": {
        "id": "view-in-github",
        "colab_type": "text"
      },
      "source": [
        "<a href=\"https://colab.research.google.com/github/flaghunter21/DFS/blob/main/Small_Slate_MLB_Combo_Backtest.ipynb\" target=\"_parent\"><img src=\"https://colab.research.google.com/assets/colab-badge.svg\" alt=\"Open In Colab\"/></a>"
      ]
    },
    {
      "cell_type": "code",
      "execution_count": 36,
      "metadata": {
        "id": "Jw913uCsfaam"
      },
      "outputs": [],
      "source": [
        "import pandas as pd\n",
        "import itertools\n",
        "from itertools import combinations\n",
        "import numpy as np"
      ]
    },
    {
      "cell_type": "code",
      "source": [
        "df = pd.read_csv('625_Afternoon.csv')\n",
        "df.head()"
      ],
      "metadata": {
        "colab": {
          "base_uri": "https://localhost:8080/",
          "height": 404
        },
        "id": "fVn47CnugXRC",
        "outputId": "ea475e09-afa8-408a-eb42-10115149c3a3"
      },
      "execution_count": 37,
      "outputs": [
        {
          "output_type": "execute_result",
          "data": {
            "text/plain": [
              "             Player  Inj  Likes Pos  Salary Order Hand Team     Opp     Time  \\\n",
              "0        Lance Lynn  NaN    NaN   P    7600    SP    R  CWS  vs BAL  1:10 PM   \n",
              "1     Miles Mikolas  NaN    NaN   P    9600    SP    R  STL  vs CHC  1:15 PM   \n",
              "2    Cedric Mullins  NaN    NaN  OF    4800     1    L  BAL   @ CWS  1:10 PM   \n",
              "3       Luis Robert  NaN    NaN  OF    5600     3    R  CWS  vs BAL  1:10 PM   \n",
              "4  Paul Goldschmidt  NaN    NaN  1B    6000     3    R  STL  vs CHC  1:15 PM   \n",
              "\n",
              "   ... pGrade    Proj  My Proj  Exp.    Used  Con.  Value    Own%  \\\n",
              "0  ...      B  16.898   16.898   100     NaN     0    2.2  81.37%   \n",
              "1  ...     B-  14.997   14.997   100    100%    50    1.6  83.26%   \n",
              "2  ...      A   9.619    9.619   100  33.30%    54    2.0  26.41%   \n",
              "3  ...      A  10.215   10.215   100     NaN    61    1.8  56.01%   \n",
              "4  ...      A  10.039   10.039   100  33.30%    60    1.7  43.10%   \n",
              "\n",
              "   Actual Score  Actual Val  \n",
              "0          15.6         2.1  \n",
              "1          26.5         2.8  \n",
              "2           8.0         1.7  \n",
              "3           8.0         1.4  \n",
              "4           8.0         1.3  \n",
              "\n",
              "[5 rows x 36 columns]"
            ],
            "text/html": [
              "\n",
              "  <div id=\"df-b7eda331-f961-4e01-9950-78f47b968645\">\n",
              "    <div class=\"colab-df-container\">\n",
              "      <div>\n",
              "<style scoped>\n",
              "    .dataframe tbody tr th:only-of-type {\n",
              "        vertical-align: middle;\n",
              "    }\n",
              "\n",
              "    .dataframe tbody tr th {\n",
              "        vertical-align: top;\n",
              "    }\n",
              "\n",
              "    .dataframe thead th {\n",
              "        text-align: right;\n",
              "    }\n",
              "</style>\n",
              "<table border=\"1\" class=\"dataframe\">\n",
              "  <thead>\n",
              "    <tr style=\"text-align: right;\">\n",
              "      <th></th>\n",
              "      <th>Player</th>\n",
              "      <th>Inj</th>\n",
              "      <th>Likes</th>\n",
              "      <th>Pos</th>\n",
              "      <th>Salary</th>\n",
              "      <th>Order</th>\n",
              "      <th>Hand</th>\n",
              "      <th>Team</th>\n",
              "      <th>Opp</th>\n",
              "      <th>Time</th>\n",
              "      <th>...</th>\n",
              "      <th>pGrade</th>\n",
              "      <th>Proj</th>\n",
              "      <th>My Proj</th>\n",
              "      <th>Exp.</th>\n",
              "      <th>Used</th>\n",
              "      <th>Con.</th>\n",
              "      <th>Value</th>\n",
              "      <th>Own%</th>\n",
              "      <th>Actual Score</th>\n",
              "      <th>Actual Val</th>\n",
              "    </tr>\n",
              "  </thead>\n",
              "  <tbody>\n",
              "    <tr>\n",
              "      <th>0</th>\n",
              "      <td>Lance Lynn</td>\n",
              "      <td>NaN</td>\n",
              "      <td>NaN</td>\n",
              "      <td>P</td>\n",
              "      <td>7600</td>\n",
              "      <td>SP</td>\n",
              "      <td>R</td>\n",
              "      <td>CWS</td>\n",
              "      <td>vs BAL</td>\n",
              "      <td>1:10 PM</td>\n",
              "      <td>...</td>\n",
              "      <td>B</td>\n",
              "      <td>16.898</td>\n",
              "      <td>16.898</td>\n",
              "      <td>100</td>\n",
              "      <td>NaN</td>\n",
              "      <td>0</td>\n",
              "      <td>2.2</td>\n",
              "      <td>81.37%</td>\n",
              "      <td>15.6</td>\n",
              "      <td>2.1</td>\n",
              "    </tr>\n",
              "    <tr>\n",
              "      <th>1</th>\n",
              "      <td>Miles Mikolas</td>\n",
              "      <td>NaN</td>\n",
              "      <td>NaN</td>\n",
              "      <td>P</td>\n",
              "      <td>9600</td>\n",
              "      <td>SP</td>\n",
              "      <td>R</td>\n",
              "      <td>STL</td>\n",
              "      <td>vs CHC</td>\n",
              "      <td>1:15 PM</td>\n",
              "      <td>...</td>\n",
              "      <td>B-</td>\n",
              "      <td>14.997</td>\n",
              "      <td>14.997</td>\n",
              "      <td>100</td>\n",
              "      <td>100%</td>\n",
              "      <td>50</td>\n",
              "      <td>1.6</td>\n",
              "      <td>83.26%</td>\n",
              "      <td>26.5</td>\n",
              "      <td>2.8</td>\n",
              "    </tr>\n",
              "    <tr>\n",
              "      <th>2</th>\n",
              "      <td>Cedric Mullins</td>\n",
              "      <td>NaN</td>\n",
              "      <td>NaN</td>\n",
              "      <td>OF</td>\n",
              "      <td>4800</td>\n",
              "      <td>1</td>\n",
              "      <td>L</td>\n",
              "      <td>BAL</td>\n",
              "      <td>@ CWS</td>\n",
              "      <td>1:10 PM</td>\n",
              "      <td>...</td>\n",
              "      <td>A</td>\n",
              "      <td>9.619</td>\n",
              "      <td>9.619</td>\n",
              "      <td>100</td>\n",
              "      <td>33.30%</td>\n",
              "      <td>54</td>\n",
              "      <td>2.0</td>\n",
              "      <td>26.41%</td>\n",
              "      <td>8.0</td>\n",
              "      <td>1.7</td>\n",
              "    </tr>\n",
              "    <tr>\n",
              "      <th>3</th>\n",
              "      <td>Luis Robert</td>\n",
              "      <td>NaN</td>\n",
              "      <td>NaN</td>\n",
              "      <td>OF</td>\n",
              "      <td>5600</td>\n",
              "      <td>3</td>\n",
              "      <td>R</td>\n",
              "      <td>CWS</td>\n",
              "      <td>vs BAL</td>\n",
              "      <td>1:10 PM</td>\n",
              "      <td>...</td>\n",
              "      <td>A</td>\n",
              "      <td>10.215</td>\n",
              "      <td>10.215</td>\n",
              "      <td>100</td>\n",
              "      <td>NaN</td>\n",
              "      <td>61</td>\n",
              "      <td>1.8</td>\n",
              "      <td>56.01%</td>\n",
              "      <td>8.0</td>\n",
              "      <td>1.4</td>\n",
              "    </tr>\n",
              "    <tr>\n",
              "      <th>4</th>\n",
              "      <td>Paul Goldschmidt</td>\n",
              "      <td>NaN</td>\n",
              "      <td>NaN</td>\n",
              "      <td>1B</td>\n",
              "      <td>6000</td>\n",
              "      <td>3</td>\n",
              "      <td>R</td>\n",
              "      <td>STL</td>\n",
              "      <td>vs CHC</td>\n",
              "      <td>1:15 PM</td>\n",
              "      <td>...</td>\n",
              "      <td>A</td>\n",
              "      <td>10.039</td>\n",
              "      <td>10.039</td>\n",
              "      <td>100</td>\n",
              "      <td>33.30%</td>\n",
              "      <td>60</td>\n",
              "      <td>1.7</td>\n",
              "      <td>43.10%</td>\n",
              "      <td>8.0</td>\n",
              "      <td>1.3</td>\n",
              "    </tr>\n",
              "  </tbody>\n",
              "</table>\n",
              "<p>5 rows × 36 columns</p>\n",
              "</div>\n",
              "      <button class=\"colab-df-convert\" onclick=\"convertToInteractive('df-b7eda331-f961-4e01-9950-78f47b968645')\"\n",
              "              title=\"Convert this dataframe to an interactive table.\"\n",
              "              style=\"display:none;\">\n",
              "        \n",
              "  <svg xmlns=\"http://www.w3.org/2000/svg\" height=\"24px\"viewBox=\"0 0 24 24\"\n",
              "       width=\"24px\">\n",
              "    <path d=\"M0 0h24v24H0V0z\" fill=\"none\"/>\n",
              "    <path d=\"M18.56 5.44l.94 2.06.94-2.06 2.06-.94-2.06-.94-.94-2.06-.94 2.06-2.06.94zm-11 1L8.5 8.5l.94-2.06 2.06-.94-2.06-.94L8.5 2.5l-.94 2.06-2.06.94zm10 10l.94 2.06.94-2.06 2.06-.94-2.06-.94-.94-2.06-.94 2.06-2.06.94z\"/><path d=\"M17.41 7.96l-1.37-1.37c-.4-.4-.92-.59-1.43-.59-.52 0-1.04.2-1.43.59L10.3 9.45l-7.72 7.72c-.78.78-.78 2.05 0 2.83L4 21.41c.39.39.9.59 1.41.59.51 0 1.02-.2 1.41-.59l7.78-7.78 2.81-2.81c.8-.78.8-2.07 0-2.86zM5.41 20L4 18.59l7.72-7.72 1.47 1.35L5.41 20z\"/>\n",
              "  </svg>\n",
              "      </button>\n",
              "      \n",
              "  <style>\n",
              "    .colab-df-container {\n",
              "      display:flex;\n",
              "      flex-wrap:wrap;\n",
              "      gap: 12px;\n",
              "    }\n",
              "\n",
              "    .colab-df-convert {\n",
              "      background-color: #E8F0FE;\n",
              "      border: none;\n",
              "      border-radius: 50%;\n",
              "      cursor: pointer;\n",
              "      display: none;\n",
              "      fill: #1967D2;\n",
              "      height: 32px;\n",
              "      padding: 0 0 0 0;\n",
              "      width: 32px;\n",
              "    }\n",
              "\n",
              "    .colab-df-convert:hover {\n",
              "      background-color: #E2EBFA;\n",
              "      box-shadow: 0px 1px 2px rgba(60, 64, 67, 0.3), 0px 1px 3px 1px rgba(60, 64, 67, 0.15);\n",
              "      fill: #174EA6;\n",
              "    }\n",
              "\n",
              "    [theme=dark] .colab-df-convert {\n",
              "      background-color: #3B4455;\n",
              "      fill: #D2E3FC;\n",
              "    }\n",
              "\n",
              "    [theme=dark] .colab-df-convert:hover {\n",
              "      background-color: #434B5C;\n",
              "      box-shadow: 0px 1px 3px 1px rgba(0, 0, 0, 0.15);\n",
              "      filter: drop-shadow(0px 1px 2px rgba(0, 0, 0, 0.3));\n",
              "      fill: #FFFFFF;\n",
              "    }\n",
              "  </style>\n",
              "\n",
              "      <script>\n",
              "        const buttonEl =\n",
              "          document.querySelector('#df-b7eda331-f961-4e01-9950-78f47b968645 button.colab-df-convert');\n",
              "        buttonEl.style.display =\n",
              "          google.colab.kernel.accessAllowed ? 'block' : 'none';\n",
              "\n",
              "        async function convertToInteractive(key) {\n",
              "          const element = document.querySelector('#df-b7eda331-f961-4e01-9950-78f47b968645');\n",
              "          const dataTable =\n",
              "            await google.colab.kernel.invokeFunction('convertToInteractive',\n",
              "                                                     [key], {});\n",
              "          if (!dataTable) return;\n",
              "\n",
              "          const docLinkHtml = 'Like what you see? Visit the ' +\n",
              "            '<a target=\"_blank\" href=https://colab.research.google.com/notebooks/data_table.ipynb>data table notebook</a>'\n",
              "            + ' to learn more about interactive tables.';\n",
              "          element.innerHTML = '';\n",
              "          dataTable['output_type'] = 'display_data';\n",
              "          await google.colab.output.renderOutput(dataTable, element);\n",
              "          const docLink = document.createElement('div');\n",
              "          docLink.innerHTML = docLinkHtml;\n",
              "          element.appendChild(docLink);\n",
              "        }\n",
              "      </script>\n",
              "    </div>\n",
              "  </div>\n",
              "  "
            ]
          },
          "metadata": {},
          "execution_count": 37
        }
      ]
    },
    {
      "cell_type": "code",
      "source": [
        "print(df.columns)"
      ],
      "metadata": {
        "colab": {
          "base_uri": "https://localhost:8080/"
        },
        "id": "u6kWs25EgdfD",
        "outputId": "d58e9aee-8351-47d9-b973-0ac3a67ac719"
      },
      "execution_count": 38,
      "outputs": [
        {
          "output_type": "stream",
          "name": "stdout",
          "text": [
            "Index(['Player', 'Inj', 'Likes', 'Pos', 'Salary', 'Order', 'Hand', 'Team',\n",
            "       'Opp', 'Time', 'vs. Pitcher', 'Win %', 'Total', 'TeamRuns', 'OppRuns',\n",
            "       'ERA/AVG', 'wOBA', 'ISO', 'Avg innings', 'K/9', 'WHIP', 'Avg', 'STDV',\n",
            "       'Ceiling', 'Own', 'vGrade', 'pGrade', 'Proj', 'My Proj', 'Exp.', 'Used',\n",
            "       'Con.', 'Value', 'Own%', 'Actual Score', 'Actual Val'],\n",
            "      dtype='object')\n"
          ]
        }
      ]
    },
    {
      "cell_type": "code",
      "source": [
        "df = df.loc[:,['Player', 'Pos', 'Salary','Team','Proj','Own','Actual Score']]\n",
        "df.head()"
      ],
      "metadata": {
        "colab": {
          "base_uri": "https://localhost:8080/",
          "height": 206
        },
        "id": "zZJbqea-gf0K",
        "outputId": "a42de081-e561-4fe5-83d4-fa0c599cf1bb"
      },
      "execution_count": 39,
      "outputs": [
        {
          "output_type": "execute_result",
          "data": {
            "text/plain": [
              "             Player Pos  Salary Team    Proj     Own  Actual Score\n",
              "0        Lance Lynn   P    7600  CWS  16.898  96.20%          15.6\n",
              "1     Miles Mikolas   P    9600  STL  14.997  90.30%          26.5\n",
              "2    Cedric Mullins  OF    4800  BAL   9.619  30.50%           8.0\n",
              "3       Luis Robert  OF    5600  CWS  10.215  45.90%           8.0\n",
              "4  Paul Goldschmidt  1B    6000  STL  10.039  29.90%           8.0"
            ],
            "text/html": [
              "\n",
              "  <div id=\"df-c1c48373-7e7b-45e8-adc6-d26076a26197\">\n",
              "    <div class=\"colab-df-container\">\n",
              "      <div>\n",
              "<style scoped>\n",
              "    .dataframe tbody tr th:only-of-type {\n",
              "        vertical-align: middle;\n",
              "    }\n",
              "\n",
              "    .dataframe tbody tr th {\n",
              "        vertical-align: top;\n",
              "    }\n",
              "\n",
              "    .dataframe thead th {\n",
              "        text-align: right;\n",
              "    }\n",
              "</style>\n",
              "<table border=\"1\" class=\"dataframe\">\n",
              "  <thead>\n",
              "    <tr style=\"text-align: right;\">\n",
              "      <th></th>\n",
              "      <th>Player</th>\n",
              "      <th>Pos</th>\n",
              "      <th>Salary</th>\n",
              "      <th>Team</th>\n",
              "      <th>Proj</th>\n",
              "      <th>Own</th>\n",
              "      <th>Actual Score</th>\n",
              "    </tr>\n",
              "  </thead>\n",
              "  <tbody>\n",
              "    <tr>\n",
              "      <th>0</th>\n",
              "      <td>Lance Lynn</td>\n",
              "      <td>P</td>\n",
              "      <td>7600</td>\n",
              "      <td>CWS</td>\n",
              "      <td>16.898</td>\n",
              "      <td>96.20%</td>\n",
              "      <td>15.6</td>\n",
              "    </tr>\n",
              "    <tr>\n",
              "      <th>1</th>\n",
              "      <td>Miles Mikolas</td>\n",
              "      <td>P</td>\n",
              "      <td>9600</td>\n",
              "      <td>STL</td>\n",
              "      <td>14.997</td>\n",
              "      <td>90.30%</td>\n",
              "      <td>26.5</td>\n",
              "    </tr>\n",
              "    <tr>\n",
              "      <th>2</th>\n",
              "      <td>Cedric Mullins</td>\n",
              "      <td>OF</td>\n",
              "      <td>4800</td>\n",
              "      <td>BAL</td>\n",
              "      <td>9.619</td>\n",
              "      <td>30.50%</td>\n",
              "      <td>8.0</td>\n",
              "    </tr>\n",
              "    <tr>\n",
              "      <th>3</th>\n",
              "      <td>Luis Robert</td>\n",
              "      <td>OF</td>\n",
              "      <td>5600</td>\n",
              "      <td>CWS</td>\n",
              "      <td>10.215</td>\n",
              "      <td>45.90%</td>\n",
              "      <td>8.0</td>\n",
              "    </tr>\n",
              "    <tr>\n",
              "      <th>4</th>\n",
              "      <td>Paul Goldschmidt</td>\n",
              "      <td>1B</td>\n",
              "      <td>6000</td>\n",
              "      <td>STL</td>\n",
              "      <td>10.039</td>\n",
              "      <td>29.90%</td>\n",
              "      <td>8.0</td>\n",
              "    </tr>\n",
              "  </tbody>\n",
              "</table>\n",
              "</div>\n",
              "      <button class=\"colab-df-convert\" onclick=\"convertToInteractive('df-c1c48373-7e7b-45e8-adc6-d26076a26197')\"\n",
              "              title=\"Convert this dataframe to an interactive table.\"\n",
              "              style=\"display:none;\">\n",
              "        \n",
              "  <svg xmlns=\"http://www.w3.org/2000/svg\" height=\"24px\"viewBox=\"0 0 24 24\"\n",
              "       width=\"24px\">\n",
              "    <path d=\"M0 0h24v24H0V0z\" fill=\"none\"/>\n",
              "    <path d=\"M18.56 5.44l.94 2.06.94-2.06 2.06-.94-2.06-.94-.94-2.06-.94 2.06-2.06.94zm-11 1L8.5 8.5l.94-2.06 2.06-.94-2.06-.94L8.5 2.5l-.94 2.06-2.06.94zm10 10l.94 2.06.94-2.06 2.06-.94-2.06-.94-.94-2.06-.94 2.06-2.06.94z\"/><path d=\"M17.41 7.96l-1.37-1.37c-.4-.4-.92-.59-1.43-.59-.52 0-1.04.2-1.43.59L10.3 9.45l-7.72 7.72c-.78.78-.78 2.05 0 2.83L4 21.41c.39.39.9.59 1.41.59.51 0 1.02-.2 1.41-.59l7.78-7.78 2.81-2.81c.8-.78.8-2.07 0-2.86zM5.41 20L4 18.59l7.72-7.72 1.47 1.35L5.41 20z\"/>\n",
              "  </svg>\n",
              "      </button>\n",
              "      \n",
              "  <style>\n",
              "    .colab-df-container {\n",
              "      display:flex;\n",
              "      flex-wrap:wrap;\n",
              "      gap: 12px;\n",
              "    }\n",
              "\n",
              "    .colab-df-convert {\n",
              "      background-color: #E8F0FE;\n",
              "      border: none;\n",
              "      border-radius: 50%;\n",
              "      cursor: pointer;\n",
              "      display: none;\n",
              "      fill: #1967D2;\n",
              "      height: 32px;\n",
              "      padding: 0 0 0 0;\n",
              "      width: 32px;\n",
              "    }\n",
              "\n",
              "    .colab-df-convert:hover {\n",
              "      background-color: #E2EBFA;\n",
              "      box-shadow: 0px 1px 2px rgba(60, 64, 67, 0.3), 0px 1px 3px 1px rgba(60, 64, 67, 0.15);\n",
              "      fill: #174EA6;\n",
              "    }\n",
              "\n",
              "    [theme=dark] .colab-df-convert {\n",
              "      background-color: #3B4455;\n",
              "      fill: #D2E3FC;\n",
              "    }\n",
              "\n",
              "    [theme=dark] .colab-df-convert:hover {\n",
              "      background-color: #434B5C;\n",
              "      box-shadow: 0px 1px 3px 1px rgba(0, 0, 0, 0.15);\n",
              "      filter: drop-shadow(0px 1px 2px rgba(0, 0, 0, 0.3));\n",
              "      fill: #FFFFFF;\n",
              "    }\n",
              "  </style>\n",
              "\n",
              "      <script>\n",
              "        const buttonEl =\n",
              "          document.querySelector('#df-c1c48373-7e7b-45e8-adc6-d26076a26197 button.colab-df-convert');\n",
              "        buttonEl.style.display =\n",
              "          google.colab.kernel.accessAllowed ? 'block' : 'none';\n",
              "\n",
              "        async function convertToInteractive(key) {\n",
              "          const element = document.querySelector('#df-c1c48373-7e7b-45e8-adc6-d26076a26197');\n",
              "          const dataTable =\n",
              "            await google.colab.kernel.invokeFunction('convertToInteractive',\n",
              "                                                     [key], {});\n",
              "          if (!dataTable) return;\n",
              "\n",
              "          const docLinkHtml = 'Like what you see? Visit the ' +\n",
              "            '<a target=\"_blank\" href=https://colab.research.google.com/notebooks/data_table.ipynb>data table notebook</a>'\n",
              "            + ' to learn more about interactive tables.';\n",
              "          element.innerHTML = '';\n",
              "          dataTable['output_type'] = 'display_data';\n",
              "          await google.colab.output.renderOutput(dataTable, element);\n",
              "          const docLink = document.createElement('div');\n",
              "          docLink.innerHTML = docLinkHtml;\n",
              "          element.appendChild(docLink);\n",
              "        }\n",
              "      </script>\n",
              "    </div>\n",
              "  </div>\n",
              "  "
            ]
          },
          "metadata": {},
          "execution_count": 39
        }
      ]
    },
    {
      "cell_type": "code",
      "source": [
        "df['Own'] = df['Own'].str.replace('%','').astype(float)/100\n",
        "df.head()"
      ],
      "metadata": {
        "colab": {
          "base_uri": "https://localhost:8080/",
          "height": 206
        },
        "id": "NSqWX93EhL0F",
        "outputId": "631e97a4-0e56-42ff-9dea-e63969e844c5"
      },
      "execution_count": 40,
      "outputs": [
        {
          "output_type": "execute_result",
          "data": {
            "text/plain": [
              "             Player Pos  Salary Team    Proj    Own  Actual Score\n",
              "0        Lance Lynn   P    7600  CWS  16.898  0.962          15.6\n",
              "1     Miles Mikolas   P    9600  STL  14.997  0.903          26.5\n",
              "2    Cedric Mullins  OF    4800  BAL   9.619  0.305           8.0\n",
              "3       Luis Robert  OF    5600  CWS  10.215  0.459           8.0\n",
              "4  Paul Goldschmidt  1B    6000  STL  10.039  0.299           8.0"
            ],
            "text/html": [
              "\n",
              "  <div id=\"df-0f904527-55c2-4aef-a443-3256f06818ae\">\n",
              "    <div class=\"colab-df-container\">\n",
              "      <div>\n",
              "<style scoped>\n",
              "    .dataframe tbody tr th:only-of-type {\n",
              "        vertical-align: middle;\n",
              "    }\n",
              "\n",
              "    .dataframe tbody tr th {\n",
              "        vertical-align: top;\n",
              "    }\n",
              "\n",
              "    .dataframe thead th {\n",
              "        text-align: right;\n",
              "    }\n",
              "</style>\n",
              "<table border=\"1\" class=\"dataframe\">\n",
              "  <thead>\n",
              "    <tr style=\"text-align: right;\">\n",
              "      <th></th>\n",
              "      <th>Player</th>\n",
              "      <th>Pos</th>\n",
              "      <th>Salary</th>\n",
              "      <th>Team</th>\n",
              "      <th>Proj</th>\n",
              "      <th>Own</th>\n",
              "      <th>Actual Score</th>\n",
              "    </tr>\n",
              "  </thead>\n",
              "  <tbody>\n",
              "    <tr>\n",
              "      <th>0</th>\n",
              "      <td>Lance Lynn</td>\n",
              "      <td>P</td>\n",
              "      <td>7600</td>\n",
              "      <td>CWS</td>\n",
              "      <td>16.898</td>\n",
              "      <td>0.962</td>\n",
              "      <td>15.6</td>\n",
              "    </tr>\n",
              "    <tr>\n",
              "      <th>1</th>\n",
              "      <td>Miles Mikolas</td>\n",
              "      <td>P</td>\n",
              "      <td>9600</td>\n",
              "      <td>STL</td>\n",
              "      <td>14.997</td>\n",
              "      <td>0.903</td>\n",
              "      <td>26.5</td>\n",
              "    </tr>\n",
              "    <tr>\n",
              "      <th>2</th>\n",
              "      <td>Cedric Mullins</td>\n",
              "      <td>OF</td>\n",
              "      <td>4800</td>\n",
              "      <td>BAL</td>\n",
              "      <td>9.619</td>\n",
              "      <td>0.305</td>\n",
              "      <td>8.0</td>\n",
              "    </tr>\n",
              "    <tr>\n",
              "      <th>3</th>\n",
              "      <td>Luis Robert</td>\n",
              "      <td>OF</td>\n",
              "      <td>5600</td>\n",
              "      <td>CWS</td>\n",
              "      <td>10.215</td>\n",
              "      <td>0.459</td>\n",
              "      <td>8.0</td>\n",
              "    </tr>\n",
              "    <tr>\n",
              "      <th>4</th>\n",
              "      <td>Paul Goldschmidt</td>\n",
              "      <td>1B</td>\n",
              "      <td>6000</td>\n",
              "      <td>STL</td>\n",
              "      <td>10.039</td>\n",
              "      <td>0.299</td>\n",
              "      <td>8.0</td>\n",
              "    </tr>\n",
              "  </tbody>\n",
              "</table>\n",
              "</div>\n",
              "      <button class=\"colab-df-convert\" onclick=\"convertToInteractive('df-0f904527-55c2-4aef-a443-3256f06818ae')\"\n",
              "              title=\"Convert this dataframe to an interactive table.\"\n",
              "              style=\"display:none;\">\n",
              "        \n",
              "  <svg xmlns=\"http://www.w3.org/2000/svg\" height=\"24px\"viewBox=\"0 0 24 24\"\n",
              "       width=\"24px\">\n",
              "    <path d=\"M0 0h24v24H0V0z\" fill=\"none\"/>\n",
              "    <path d=\"M18.56 5.44l.94 2.06.94-2.06 2.06-.94-2.06-.94-.94-2.06-.94 2.06-2.06.94zm-11 1L8.5 8.5l.94-2.06 2.06-.94-2.06-.94L8.5 2.5l-.94 2.06-2.06.94zm10 10l.94 2.06.94-2.06 2.06-.94-2.06-.94-.94-2.06-.94 2.06-2.06.94z\"/><path d=\"M17.41 7.96l-1.37-1.37c-.4-.4-.92-.59-1.43-.59-.52 0-1.04.2-1.43.59L10.3 9.45l-7.72 7.72c-.78.78-.78 2.05 0 2.83L4 21.41c.39.39.9.59 1.41.59.51 0 1.02-.2 1.41-.59l7.78-7.78 2.81-2.81c.8-.78.8-2.07 0-2.86zM5.41 20L4 18.59l7.72-7.72 1.47 1.35L5.41 20z\"/>\n",
              "  </svg>\n",
              "      </button>\n",
              "      \n",
              "  <style>\n",
              "    .colab-df-container {\n",
              "      display:flex;\n",
              "      flex-wrap:wrap;\n",
              "      gap: 12px;\n",
              "    }\n",
              "\n",
              "    .colab-df-convert {\n",
              "      background-color: #E8F0FE;\n",
              "      border: none;\n",
              "      border-radius: 50%;\n",
              "      cursor: pointer;\n",
              "      display: none;\n",
              "      fill: #1967D2;\n",
              "      height: 32px;\n",
              "      padding: 0 0 0 0;\n",
              "      width: 32px;\n",
              "    }\n",
              "\n",
              "    .colab-df-convert:hover {\n",
              "      background-color: #E2EBFA;\n",
              "      box-shadow: 0px 1px 2px rgba(60, 64, 67, 0.3), 0px 1px 3px 1px rgba(60, 64, 67, 0.15);\n",
              "      fill: #174EA6;\n",
              "    }\n",
              "\n",
              "    [theme=dark] .colab-df-convert {\n",
              "      background-color: #3B4455;\n",
              "      fill: #D2E3FC;\n",
              "    }\n",
              "\n",
              "    [theme=dark] .colab-df-convert:hover {\n",
              "      background-color: #434B5C;\n",
              "      box-shadow: 0px 1px 3px 1px rgba(0, 0, 0, 0.15);\n",
              "      filter: drop-shadow(0px 1px 2px rgba(0, 0, 0, 0.3));\n",
              "      fill: #FFFFFF;\n",
              "    }\n",
              "  </style>\n",
              "\n",
              "      <script>\n",
              "        const buttonEl =\n",
              "          document.querySelector('#df-0f904527-55c2-4aef-a443-3256f06818ae button.colab-df-convert');\n",
              "        buttonEl.style.display =\n",
              "          google.colab.kernel.accessAllowed ? 'block' : 'none';\n",
              "\n",
              "        async function convertToInteractive(key) {\n",
              "          const element = document.querySelector('#df-0f904527-55c2-4aef-a443-3256f06818ae');\n",
              "          const dataTable =\n",
              "            await google.colab.kernel.invokeFunction('convertToInteractive',\n",
              "                                                     [key], {});\n",
              "          if (!dataTable) return;\n",
              "\n",
              "          const docLinkHtml = 'Like what you see? Visit the ' +\n",
              "            '<a target=\"_blank\" href=https://colab.research.google.com/notebooks/data_table.ipynb>data table notebook</a>'\n",
              "            + ' to learn more about interactive tables.';\n",
              "          element.innerHTML = '';\n",
              "          dataTable['output_type'] = 'display_data';\n",
              "          await google.colab.output.renderOutput(dataTable, element);\n",
              "          const docLink = document.createElement('div');\n",
              "          docLink.innerHTML = docLinkHtml;\n",
              "          element.appendChild(docLink);\n",
              "        }\n",
              "      </script>\n",
              "    </div>\n",
              "  </div>\n",
              "  "
            ]
          },
          "metadata": {},
          "execution_count": 40
        }
      ]
    },
    {
      "cell_type": "code",
      "source": [
        "# Pitchers\n",
        "pitchers = df[df['Pos'] == 'P']['Player']\n",
        "pitchers"
      ],
      "metadata": {
        "colab": {
          "base_uri": "https://localhost:8080/"
        },
        "id": "zdlCI5KvhU_I",
        "outputId": "2389f132-772c-4b4e-fa7b-d0a8da3808e7"
      },
      "execution_count": 41,
      "outputs": [
        {
          "output_type": "execute_result",
          "data": {
            "text/plain": [
              "0          Lance Lynn\n",
              "1       Miles Mikolas\n",
              "9      Adrian Sampson\n",
              "33    Spenser Watkins\n",
              "Name: Player, dtype: object"
            ]
          },
          "metadata": {},
          "execution_count": 41
        }
      ]
    },
    {
      "cell_type": "code",
      "source": [
        "# Pitcher combinations\n",
        "pitcher_combos = list(itertools.combinations(pitchers, 2))"
      ],
      "metadata": {
        "id": "pP1X3sgohomm"
      },
      "execution_count": 42,
      "outputs": []
    },
    {
      "cell_type": "code",
      "source": [
        "pitcher_combos"
      ],
      "metadata": {
        "colab": {
          "base_uri": "https://localhost:8080/"
        },
        "id": "Rrv4-vYEiKBn",
        "outputId": "1e91121f-6301-43de-e1b8-40c55eec85d3"
      },
      "execution_count": 43,
      "outputs": [
        {
          "output_type": "execute_result",
          "data": {
            "text/plain": [
              "[('Lance Lynn', 'Miles Mikolas'),\n",
              " ('Lance Lynn', 'Adrian Sampson'),\n",
              " ('Lance Lynn', 'Spenser Watkins'),\n",
              " ('Miles Mikolas', 'Adrian Sampson'),\n",
              " ('Miles Mikolas', 'Spenser Watkins'),\n",
              " ('Adrian Sampson', 'Spenser Watkins')]"
            ]
          },
          "metadata": {},
          "execution_count": 43
        }
      ]
    },
    {
      "cell_type": "code",
      "source": [
        "df['Pos'].unique()"
      ],
      "metadata": {
        "colab": {
          "base_uri": "https://localhost:8080/"
        },
        "id": "qTRWX63hiLAG",
        "outputId": "d605aa42-cdd0-4612-fd24-d7503564f6b8"
      },
      "execution_count": 44,
      "outputs": [
        {
          "output_type": "execute_result",
          "data": {
            "text/plain": [
              "array(['P', 'OF', '1B', '2B', '1B/OF', 'SS', '3B', 'C', '2B/SS', '2B/3B'],\n",
              "      dtype=object)"
            ]
          },
          "metadata": {},
          "execution_count": 44
        }
      ]
    },
    {
      "cell_type": "code",
      "source": [
        "catchers = df[df['Pos'] == 'C']['Player']\n",
        "first_base = df[df['Pos'].isin(['1B','1B/OF'])]['Player']\n",
        "second_base = df[df['Pos'].isin(['2B','2B/SS','2B/3B'])]['Player']\n",
        "third_base = df[df['Pos'].isin(['3B','2B/3B'])]['Player']\n",
        "shortstop = df[df['Pos'].isin(['SS','2B/SS'])]['Player']\n",
        "outfielders = df[df['Pos'].isin(['OF','1B/OF'])]['Player']"
      ],
      "metadata": {
        "id": "04BT7JJ8jfNH"
      },
      "execution_count": 45,
      "outputs": []
    },
    {
      "cell_type": "code",
      "source": [
        "infield_combos = list(itertools.product(catchers, first_base, second_base, third_base, shortstop))\n",
        "outfield_combos = list(itertools.combinations(outfielders, 3))"
      ],
      "metadata": {
        "id": "JjEm_CoPm93Y"
      },
      "execution_count": 46,
      "outputs": []
    },
    {
      "cell_type": "code",
      "source": [
        "infield_combos[:5]"
      ],
      "metadata": {
        "colab": {
          "base_uri": "https://localhost:8080/"
        },
        "id": "Ta-0viW0nUDJ",
        "outputId": "53a4fb06-930d-4276-d50f-7d232d60c5c3"
      },
      "execution_count": 47,
      "outputs": [
        {
          "output_type": "execute_result",
          "data": {
            "text/plain": [
              "[('Willson Contreras',\n",
              "  'Paul Goldschmidt',\n",
              "  'Nolan Gorman',\n",
              "  'Nolan Arenado',\n",
              "  'Tommy Edman'),\n",
              " ('Willson Contreras',\n",
              "  'Paul Goldschmidt',\n",
              "  'Nolan Gorman',\n",
              "  'Nolan Arenado',\n",
              "  'Lenyn Sosa'),\n",
              " ('Willson Contreras',\n",
              "  'Paul Goldschmidt',\n",
              "  'Nolan Gorman',\n",
              "  'Nolan Arenado',\n",
              "  'Jorge Mateo'),\n",
              " ('Willson Contreras',\n",
              "  'Paul Goldschmidt',\n",
              "  'Nolan Gorman',\n",
              "  'Nolan Arenado',\n",
              "  'Nico Hoerner'),\n",
              " ('Willson Contreras',\n",
              "  'Paul Goldschmidt',\n",
              "  'Nolan Gorman',\n",
              "  'Nolan Arenado',\n",
              "  'Jonathan Arauz')]"
            ]
          },
          "metadata": {},
          "execution_count": 47
        }
      ]
    },
    {
      "cell_type": "code",
      "source": [
        "outfield_combos[:5]"
      ],
      "metadata": {
        "colab": {
          "base_uri": "https://localhost:8080/"
        },
        "id": "Qkxa8CxZnVWQ",
        "outputId": "c3de9607-fb3f-4663-847f-2a2d9e4daa14"
      },
      "execution_count": 48,
      "outputs": [
        {
          "output_type": "execute_result",
          "data": {
            "text/plain": [
              "[('Cedric Mullins', 'Luis Robert', 'Andrew Vaughn'),\n",
              " ('Cedric Mullins', 'Luis Robert', 'A.J. Pollock'),\n",
              " ('Cedric Mullins', 'Luis Robert', 'Austin Hays'),\n",
              " ('Cedric Mullins', 'Luis Robert', 'Gavin Sheets'),\n",
              " ('Cedric Mullins', 'Luis Robert', 'Trey Mancini')]"
            ]
          },
          "metadata": {},
          "execution_count": 48
        }
      ]
    },
    {
      "cell_type": "code",
      "source": [
        "lineup_combos = list(itertools.product(pitcher_combos, infield_combos, outfield_combos))\n",
        "len(lineup_combos)"
      ],
      "metadata": {
        "colab": {
          "base_uri": "https://localhost:8080/"
        },
        "id": "ej7cnvSxnWfN",
        "outputId": "24853337-6143-473d-dd66-1f3299d55187"
      },
      "execution_count": 49,
      "outputs": [
        {
          "output_type": "execute_result",
          "data": {
            "text/plain": [
              "11943750"
            ]
          },
          "metadata": {},
          "execution_count": 49
        }
      ]
    },
    {
      "cell_type": "code",
      "source": [
        "lineup_combos[:3]"
      ],
      "metadata": {
        "colab": {
          "base_uri": "https://localhost:8080/"
        },
        "id": "pqmSlgQmnmyx",
        "outputId": "58eef792-c732-4315-9483-e8d9943f32b3"
      },
      "execution_count": 50,
      "outputs": [
        {
          "output_type": "execute_result",
          "data": {
            "text/plain": [
              "[(('Lance Lynn', 'Miles Mikolas'),\n",
              "  ('Willson Contreras',\n",
              "   'Paul Goldschmidt',\n",
              "   'Nolan Gorman',\n",
              "   'Nolan Arenado',\n",
              "   'Tommy Edman'),\n",
              "  ('Cedric Mullins', 'Luis Robert', 'Andrew Vaughn')),\n",
              " (('Lance Lynn', 'Miles Mikolas'),\n",
              "  ('Willson Contreras',\n",
              "   'Paul Goldschmidt',\n",
              "   'Nolan Gorman',\n",
              "   'Nolan Arenado',\n",
              "   'Tommy Edman'),\n",
              "  ('Cedric Mullins', 'Luis Robert', 'A.J. Pollock')),\n",
              " (('Lance Lynn', 'Miles Mikolas'),\n",
              "  ('Willson Contreras',\n",
              "   'Paul Goldschmidt',\n",
              "   'Nolan Gorman',\n",
              "   'Nolan Arenado',\n",
              "   'Tommy Edman'),\n",
              "  ('Cedric Mullins', 'Luis Robert', 'Austin Hays'))]"
            ]
          },
          "metadata": {},
          "execution_count": 50
        }
      ]
    },
    {
      "cell_type": "code",
      "source": [
        "combos_df = pd.DataFrame(lineup_combos,columns=['P','IF','OF'])"
      ],
      "metadata": {
        "id": "IWLIBQt8nqi1"
      },
      "execution_count": 51,
      "outputs": []
    },
    {
      "cell_type": "code",
      "source": [
        "combos_df.head()"
      ],
      "metadata": {
        "colab": {
          "base_uri": "https://localhost:8080/",
          "height": 337
        },
        "id": "NbebpQLJoS75",
        "outputId": "60dc8364-572d-4412-ad3b-04d5dd9d33a5"
      },
      "execution_count": 52,
      "outputs": [
        {
          "output_type": "execute_result",
          "data": {
            "text/plain": [
              "                             P  \\\n",
              "0  (Lance Lynn, Miles Mikolas)   \n",
              "1  (Lance Lynn, Miles Mikolas)   \n",
              "2  (Lance Lynn, Miles Mikolas)   \n",
              "3  (Lance Lynn, Miles Mikolas)   \n",
              "4  (Lance Lynn, Miles Mikolas)   \n",
              "\n",
              "                                                  IF  \\\n",
              "0  (Willson Contreras, Paul Goldschmidt, Nolan Go...   \n",
              "1  (Willson Contreras, Paul Goldschmidt, Nolan Go...   \n",
              "2  (Willson Contreras, Paul Goldschmidt, Nolan Go...   \n",
              "3  (Willson Contreras, Paul Goldschmidt, Nolan Go...   \n",
              "4  (Willson Contreras, Paul Goldschmidt, Nolan Go...   \n",
              "\n",
              "                                             OF  \n",
              "0  (Cedric Mullins, Luis Robert, Andrew Vaughn)  \n",
              "1   (Cedric Mullins, Luis Robert, A.J. Pollock)  \n",
              "2    (Cedric Mullins, Luis Robert, Austin Hays)  \n",
              "3   (Cedric Mullins, Luis Robert, Gavin Sheets)  \n",
              "4   (Cedric Mullins, Luis Robert, Trey Mancini)  "
            ],
            "text/html": [
              "\n",
              "  <div id=\"df-491c4945-df9d-403c-9655-7f1c4256fccb\">\n",
              "    <div class=\"colab-df-container\">\n",
              "      <div>\n",
              "<style scoped>\n",
              "    .dataframe tbody tr th:only-of-type {\n",
              "        vertical-align: middle;\n",
              "    }\n",
              "\n",
              "    .dataframe tbody tr th {\n",
              "        vertical-align: top;\n",
              "    }\n",
              "\n",
              "    .dataframe thead th {\n",
              "        text-align: right;\n",
              "    }\n",
              "</style>\n",
              "<table border=\"1\" class=\"dataframe\">\n",
              "  <thead>\n",
              "    <tr style=\"text-align: right;\">\n",
              "      <th></th>\n",
              "      <th>P</th>\n",
              "      <th>IF</th>\n",
              "      <th>OF</th>\n",
              "    </tr>\n",
              "  </thead>\n",
              "  <tbody>\n",
              "    <tr>\n",
              "      <th>0</th>\n",
              "      <td>(Lance Lynn, Miles Mikolas)</td>\n",
              "      <td>(Willson Contreras, Paul Goldschmidt, Nolan Go...</td>\n",
              "      <td>(Cedric Mullins, Luis Robert, Andrew Vaughn)</td>\n",
              "    </tr>\n",
              "    <tr>\n",
              "      <th>1</th>\n",
              "      <td>(Lance Lynn, Miles Mikolas)</td>\n",
              "      <td>(Willson Contreras, Paul Goldschmidt, Nolan Go...</td>\n",
              "      <td>(Cedric Mullins, Luis Robert, A.J. Pollock)</td>\n",
              "    </tr>\n",
              "    <tr>\n",
              "      <th>2</th>\n",
              "      <td>(Lance Lynn, Miles Mikolas)</td>\n",
              "      <td>(Willson Contreras, Paul Goldschmidt, Nolan Go...</td>\n",
              "      <td>(Cedric Mullins, Luis Robert, Austin Hays)</td>\n",
              "    </tr>\n",
              "    <tr>\n",
              "      <th>3</th>\n",
              "      <td>(Lance Lynn, Miles Mikolas)</td>\n",
              "      <td>(Willson Contreras, Paul Goldschmidt, Nolan Go...</td>\n",
              "      <td>(Cedric Mullins, Luis Robert, Gavin Sheets)</td>\n",
              "    </tr>\n",
              "    <tr>\n",
              "      <th>4</th>\n",
              "      <td>(Lance Lynn, Miles Mikolas)</td>\n",
              "      <td>(Willson Contreras, Paul Goldschmidt, Nolan Go...</td>\n",
              "      <td>(Cedric Mullins, Luis Robert, Trey Mancini)</td>\n",
              "    </tr>\n",
              "  </tbody>\n",
              "</table>\n",
              "</div>\n",
              "      <button class=\"colab-df-convert\" onclick=\"convertToInteractive('df-491c4945-df9d-403c-9655-7f1c4256fccb')\"\n",
              "              title=\"Convert this dataframe to an interactive table.\"\n",
              "              style=\"display:none;\">\n",
              "        \n",
              "  <svg xmlns=\"http://www.w3.org/2000/svg\" height=\"24px\"viewBox=\"0 0 24 24\"\n",
              "       width=\"24px\">\n",
              "    <path d=\"M0 0h24v24H0V0z\" fill=\"none\"/>\n",
              "    <path d=\"M18.56 5.44l.94 2.06.94-2.06 2.06-.94-2.06-.94-.94-2.06-.94 2.06-2.06.94zm-11 1L8.5 8.5l.94-2.06 2.06-.94-2.06-.94L8.5 2.5l-.94 2.06-2.06.94zm10 10l.94 2.06.94-2.06 2.06-.94-2.06-.94-.94-2.06-.94 2.06-2.06.94z\"/><path d=\"M17.41 7.96l-1.37-1.37c-.4-.4-.92-.59-1.43-.59-.52 0-1.04.2-1.43.59L10.3 9.45l-7.72 7.72c-.78.78-.78 2.05 0 2.83L4 21.41c.39.39.9.59 1.41.59.51 0 1.02-.2 1.41-.59l7.78-7.78 2.81-2.81c.8-.78.8-2.07 0-2.86zM5.41 20L4 18.59l7.72-7.72 1.47 1.35L5.41 20z\"/>\n",
              "  </svg>\n",
              "      </button>\n",
              "      \n",
              "  <style>\n",
              "    .colab-df-container {\n",
              "      display:flex;\n",
              "      flex-wrap:wrap;\n",
              "      gap: 12px;\n",
              "    }\n",
              "\n",
              "    .colab-df-convert {\n",
              "      background-color: #E8F0FE;\n",
              "      border: none;\n",
              "      border-radius: 50%;\n",
              "      cursor: pointer;\n",
              "      display: none;\n",
              "      fill: #1967D2;\n",
              "      height: 32px;\n",
              "      padding: 0 0 0 0;\n",
              "      width: 32px;\n",
              "    }\n",
              "\n",
              "    .colab-df-convert:hover {\n",
              "      background-color: #E2EBFA;\n",
              "      box-shadow: 0px 1px 2px rgba(60, 64, 67, 0.3), 0px 1px 3px 1px rgba(60, 64, 67, 0.15);\n",
              "      fill: #174EA6;\n",
              "    }\n",
              "\n",
              "    [theme=dark] .colab-df-convert {\n",
              "      background-color: #3B4455;\n",
              "      fill: #D2E3FC;\n",
              "    }\n",
              "\n",
              "    [theme=dark] .colab-df-convert:hover {\n",
              "      background-color: #434B5C;\n",
              "      box-shadow: 0px 1px 3px 1px rgba(0, 0, 0, 0.15);\n",
              "      filter: drop-shadow(0px 1px 2px rgba(0, 0, 0, 0.3));\n",
              "      fill: #FFFFFF;\n",
              "    }\n",
              "  </style>\n",
              "\n",
              "      <script>\n",
              "        const buttonEl =\n",
              "          document.querySelector('#df-491c4945-df9d-403c-9655-7f1c4256fccb button.colab-df-convert');\n",
              "        buttonEl.style.display =\n",
              "          google.colab.kernel.accessAllowed ? 'block' : 'none';\n",
              "\n",
              "        async function convertToInteractive(key) {\n",
              "          const element = document.querySelector('#df-491c4945-df9d-403c-9655-7f1c4256fccb');\n",
              "          const dataTable =\n",
              "            await google.colab.kernel.invokeFunction('convertToInteractive',\n",
              "                                                     [key], {});\n",
              "          if (!dataTable) return;\n",
              "\n",
              "          const docLinkHtml = 'Like what you see? Visit the ' +\n",
              "            '<a target=\"_blank\" href=https://colab.research.google.com/notebooks/data_table.ipynb>data table notebook</a>'\n",
              "            + ' to learn more about interactive tables.';\n",
              "          element.innerHTML = '';\n",
              "          dataTable['output_type'] = 'display_data';\n",
              "          await google.colab.output.renderOutput(dataTable, element);\n",
              "          const docLink = document.createElement('div');\n",
              "          docLink.innerHTML = docLinkHtml;\n",
              "          element.appendChild(docLink);\n",
              "        }\n",
              "      </script>\n",
              "    </div>\n",
              "  </div>\n",
              "  "
            ]
          },
          "metadata": {},
          "execution_count": 52
        }
      ]
    },
    {
      "cell_type": "code",
      "source": [
        "combos_df[['SP1', 'SP2']] = pd.DataFrame(combos_df['P'].to_list())\n",
        "combos_df[['C','1B','2B','3B','SS']] = pd.DataFrame(combos_df['IF'].to_list())\n",
        "combos_df[['OF1', 'OF2','OF3']] = pd.DataFrame(combos_df['OF'].to_list())"
      ],
      "metadata": {
        "id": "88GxP-pRokMo"
      },
      "execution_count": 53,
      "outputs": []
    },
    {
      "cell_type": "code",
      "source": [
        "combos_df = combos_df.drop(['P','IF','OF'],axis=1)\n",
        "combos_df"
      ],
      "metadata": {
        "colab": {
          "base_uri": "https://localhost:8080/",
          "height": 661
        },
        "id": "-9D1lakfpEL_",
        "outputId": "82af7d67-7e9e-411f-c17c-633c30bd442f"
      },
      "execution_count": 54,
      "outputs": [
        {
          "output_type": "execute_result",
          "data": {
            "text/plain": [
              "                     SP1              SP2                  C  \\\n",
              "0             Lance Lynn    Miles Mikolas  Willson Contreras   \n",
              "1             Lance Lynn    Miles Mikolas  Willson Contreras   \n",
              "2             Lance Lynn    Miles Mikolas  Willson Contreras   \n",
              "3             Lance Lynn    Miles Mikolas  Willson Contreras   \n",
              "4             Lance Lynn    Miles Mikolas  Willson Contreras   \n",
              "...                  ...              ...                ...   \n",
              "11943745  Adrian Sampson  Spenser Watkins  Robinson Chirinos   \n",
              "11943746  Adrian Sampson  Spenser Watkins  Robinson Chirinos   \n",
              "11943747  Adrian Sampson  Spenser Watkins  Robinson Chirinos   \n",
              "11943748  Adrian Sampson  Spenser Watkins  Robinson Chirinos   \n",
              "11943749  Adrian Sampson  Spenser Watkins  Robinson Chirinos   \n",
              "\n",
              "                        1B              2B             3B              SS  \\\n",
              "0         Paul Goldschmidt    Nolan Gorman  Nolan Arenado     Tommy Edman   \n",
              "1         Paul Goldschmidt    Nolan Gorman  Nolan Arenado     Tommy Edman   \n",
              "2         Paul Goldschmidt    Nolan Gorman  Nolan Arenado     Tommy Edman   \n",
              "3         Paul Goldschmidt    Nolan Gorman  Nolan Arenado     Tommy Edman   \n",
              "4         Paul Goldschmidt    Nolan Gorman  Nolan Arenado     Tommy Edman   \n",
              "...                    ...             ...            ...             ...   \n",
              "11943745     Alfonso Rivas  Jonathan Arauz    Tyler Nevin  Jonathan Arauz   \n",
              "11943746     Alfonso Rivas  Jonathan Arauz    Tyler Nevin  Jonathan Arauz   \n",
              "11943747     Alfonso Rivas  Jonathan Arauz    Tyler Nevin  Jonathan Arauz   \n",
              "11943748     Alfonso Rivas  Jonathan Arauz    Tyler Nevin  Jonathan Arauz   \n",
              "11943749     Alfonso Rivas  Jonathan Arauz    Tyler Nevin  Jonathan Arauz   \n",
              "\n",
              "                     OF1               OF2               OF3  \n",
              "0         Cedric Mullins       Luis Robert     Andrew Vaughn  \n",
              "1         Cedric Mullins       Luis Robert      A.J. Pollock  \n",
              "2         Cedric Mullins       Luis Robert       Austin Hays  \n",
              "3         Cedric Mullins       Luis Robert      Gavin Sheets  \n",
              "4         Cedric Mullins       Luis Robert      Trey Mancini  \n",
              "...                  ...               ...               ...  \n",
              "11943745      Juan Yepez  Nelson Velazquez      Ryan McKenna  \n",
              "11943746   Dylan Carlson     Rafael Ortega  Nelson Velazquez  \n",
              "11943747   Dylan Carlson     Rafael Ortega      Ryan McKenna  \n",
              "11943748   Dylan Carlson  Nelson Velazquez      Ryan McKenna  \n",
              "11943749   Rafael Ortega  Nelson Velazquez      Ryan McKenna  \n",
              "\n",
              "[11943750 rows x 10 columns]"
            ],
            "text/html": [
              "\n",
              "  <div id=\"df-56a70631-f308-43e9-9f19-c303b0618052\">\n",
              "    <div class=\"colab-df-container\">\n",
              "      <div>\n",
              "<style scoped>\n",
              "    .dataframe tbody tr th:only-of-type {\n",
              "        vertical-align: middle;\n",
              "    }\n",
              "\n",
              "    .dataframe tbody tr th {\n",
              "        vertical-align: top;\n",
              "    }\n",
              "\n",
              "    .dataframe thead th {\n",
              "        text-align: right;\n",
              "    }\n",
              "</style>\n",
              "<table border=\"1\" class=\"dataframe\">\n",
              "  <thead>\n",
              "    <tr style=\"text-align: right;\">\n",
              "      <th></th>\n",
              "      <th>SP1</th>\n",
              "      <th>SP2</th>\n",
              "      <th>C</th>\n",
              "      <th>1B</th>\n",
              "      <th>2B</th>\n",
              "      <th>3B</th>\n",
              "      <th>SS</th>\n",
              "      <th>OF1</th>\n",
              "      <th>OF2</th>\n",
              "      <th>OF3</th>\n",
              "    </tr>\n",
              "  </thead>\n",
              "  <tbody>\n",
              "    <tr>\n",
              "      <th>0</th>\n",
              "      <td>Lance Lynn</td>\n",
              "      <td>Miles Mikolas</td>\n",
              "      <td>Willson Contreras</td>\n",
              "      <td>Paul Goldschmidt</td>\n",
              "      <td>Nolan Gorman</td>\n",
              "      <td>Nolan Arenado</td>\n",
              "      <td>Tommy Edman</td>\n",
              "      <td>Cedric Mullins</td>\n",
              "      <td>Luis Robert</td>\n",
              "      <td>Andrew Vaughn</td>\n",
              "    </tr>\n",
              "    <tr>\n",
              "      <th>1</th>\n",
              "      <td>Lance Lynn</td>\n",
              "      <td>Miles Mikolas</td>\n",
              "      <td>Willson Contreras</td>\n",
              "      <td>Paul Goldschmidt</td>\n",
              "      <td>Nolan Gorman</td>\n",
              "      <td>Nolan Arenado</td>\n",
              "      <td>Tommy Edman</td>\n",
              "      <td>Cedric Mullins</td>\n",
              "      <td>Luis Robert</td>\n",
              "      <td>A.J. Pollock</td>\n",
              "    </tr>\n",
              "    <tr>\n",
              "      <th>2</th>\n",
              "      <td>Lance Lynn</td>\n",
              "      <td>Miles Mikolas</td>\n",
              "      <td>Willson Contreras</td>\n",
              "      <td>Paul Goldschmidt</td>\n",
              "      <td>Nolan Gorman</td>\n",
              "      <td>Nolan Arenado</td>\n",
              "      <td>Tommy Edman</td>\n",
              "      <td>Cedric Mullins</td>\n",
              "      <td>Luis Robert</td>\n",
              "      <td>Austin Hays</td>\n",
              "    </tr>\n",
              "    <tr>\n",
              "      <th>3</th>\n",
              "      <td>Lance Lynn</td>\n",
              "      <td>Miles Mikolas</td>\n",
              "      <td>Willson Contreras</td>\n",
              "      <td>Paul Goldschmidt</td>\n",
              "      <td>Nolan Gorman</td>\n",
              "      <td>Nolan Arenado</td>\n",
              "      <td>Tommy Edman</td>\n",
              "      <td>Cedric Mullins</td>\n",
              "      <td>Luis Robert</td>\n",
              "      <td>Gavin Sheets</td>\n",
              "    </tr>\n",
              "    <tr>\n",
              "      <th>4</th>\n",
              "      <td>Lance Lynn</td>\n",
              "      <td>Miles Mikolas</td>\n",
              "      <td>Willson Contreras</td>\n",
              "      <td>Paul Goldschmidt</td>\n",
              "      <td>Nolan Gorman</td>\n",
              "      <td>Nolan Arenado</td>\n",
              "      <td>Tommy Edman</td>\n",
              "      <td>Cedric Mullins</td>\n",
              "      <td>Luis Robert</td>\n",
              "      <td>Trey Mancini</td>\n",
              "    </tr>\n",
              "    <tr>\n",
              "      <th>...</th>\n",
              "      <td>...</td>\n",
              "      <td>...</td>\n",
              "      <td>...</td>\n",
              "      <td>...</td>\n",
              "      <td>...</td>\n",
              "      <td>...</td>\n",
              "      <td>...</td>\n",
              "      <td>...</td>\n",
              "      <td>...</td>\n",
              "      <td>...</td>\n",
              "    </tr>\n",
              "    <tr>\n",
              "      <th>11943745</th>\n",
              "      <td>Adrian Sampson</td>\n",
              "      <td>Spenser Watkins</td>\n",
              "      <td>Robinson Chirinos</td>\n",
              "      <td>Alfonso Rivas</td>\n",
              "      <td>Jonathan Arauz</td>\n",
              "      <td>Tyler Nevin</td>\n",
              "      <td>Jonathan Arauz</td>\n",
              "      <td>Juan Yepez</td>\n",
              "      <td>Nelson Velazquez</td>\n",
              "      <td>Ryan McKenna</td>\n",
              "    </tr>\n",
              "    <tr>\n",
              "      <th>11943746</th>\n",
              "      <td>Adrian Sampson</td>\n",
              "      <td>Spenser Watkins</td>\n",
              "      <td>Robinson Chirinos</td>\n",
              "      <td>Alfonso Rivas</td>\n",
              "      <td>Jonathan Arauz</td>\n",
              "      <td>Tyler Nevin</td>\n",
              "      <td>Jonathan Arauz</td>\n",
              "      <td>Dylan Carlson</td>\n",
              "      <td>Rafael Ortega</td>\n",
              "      <td>Nelson Velazquez</td>\n",
              "    </tr>\n",
              "    <tr>\n",
              "      <th>11943747</th>\n",
              "      <td>Adrian Sampson</td>\n",
              "      <td>Spenser Watkins</td>\n",
              "      <td>Robinson Chirinos</td>\n",
              "      <td>Alfonso Rivas</td>\n",
              "      <td>Jonathan Arauz</td>\n",
              "      <td>Tyler Nevin</td>\n",
              "      <td>Jonathan Arauz</td>\n",
              "      <td>Dylan Carlson</td>\n",
              "      <td>Rafael Ortega</td>\n",
              "      <td>Ryan McKenna</td>\n",
              "    </tr>\n",
              "    <tr>\n",
              "      <th>11943748</th>\n",
              "      <td>Adrian Sampson</td>\n",
              "      <td>Spenser Watkins</td>\n",
              "      <td>Robinson Chirinos</td>\n",
              "      <td>Alfonso Rivas</td>\n",
              "      <td>Jonathan Arauz</td>\n",
              "      <td>Tyler Nevin</td>\n",
              "      <td>Jonathan Arauz</td>\n",
              "      <td>Dylan Carlson</td>\n",
              "      <td>Nelson Velazquez</td>\n",
              "      <td>Ryan McKenna</td>\n",
              "    </tr>\n",
              "    <tr>\n",
              "      <th>11943749</th>\n",
              "      <td>Adrian Sampson</td>\n",
              "      <td>Spenser Watkins</td>\n",
              "      <td>Robinson Chirinos</td>\n",
              "      <td>Alfonso Rivas</td>\n",
              "      <td>Jonathan Arauz</td>\n",
              "      <td>Tyler Nevin</td>\n",
              "      <td>Jonathan Arauz</td>\n",
              "      <td>Rafael Ortega</td>\n",
              "      <td>Nelson Velazquez</td>\n",
              "      <td>Ryan McKenna</td>\n",
              "    </tr>\n",
              "  </tbody>\n",
              "</table>\n",
              "<p>11943750 rows × 10 columns</p>\n",
              "</div>\n",
              "      <button class=\"colab-df-convert\" onclick=\"convertToInteractive('df-56a70631-f308-43e9-9f19-c303b0618052')\"\n",
              "              title=\"Convert this dataframe to an interactive table.\"\n",
              "              style=\"display:none;\">\n",
              "        \n",
              "  <svg xmlns=\"http://www.w3.org/2000/svg\" height=\"24px\"viewBox=\"0 0 24 24\"\n",
              "       width=\"24px\">\n",
              "    <path d=\"M0 0h24v24H0V0z\" fill=\"none\"/>\n",
              "    <path d=\"M18.56 5.44l.94 2.06.94-2.06 2.06-.94-2.06-.94-.94-2.06-.94 2.06-2.06.94zm-11 1L8.5 8.5l.94-2.06 2.06-.94-2.06-.94L8.5 2.5l-.94 2.06-2.06.94zm10 10l.94 2.06.94-2.06 2.06-.94-2.06-.94-.94-2.06-.94 2.06-2.06.94z\"/><path d=\"M17.41 7.96l-1.37-1.37c-.4-.4-.92-.59-1.43-.59-.52 0-1.04.2-1.43.59L10.3 9.45l-7.72 7.72c-.78.78-.78 2.05 0 2.83L4 21.41c.39.39.9.59 1.41.59.51 0 1.02-.2 1.41-.59l7.78-7.78 2.81-2.81c.8-.78.8-2.07 0-2.86zM5.41 20L4 18.59l7.72-7.72 1.47 1.35L5.41 20z\"/>\n",
              "  </svg>\n",
              "      </button>\n",
              "      \n",
              "  <style>\n",
              "    .colab-df-container {\n",
              "      display:flex;\n",
              "      flex-wrap:wrap;\n",
              "      gap: 12px;\n",
              "    }\n",
              "\n",
              "    .colab-df-convert {\n",
              "      background-color: #E8F0FE;\n",
              "      border: none;\n",
              "      border-radius: 50%;\n",
              "      cursor: pointer;\n",
              "      display: none;\n",
              "      fill: #1967D2;\n",
              "      height: 32px;\n",
              "      padding: 0 0 0 0;\n",
              "      width: 32px;\n",
              "    }\n",
              "\n",
              "    .colab-df-convert:hover {\n",
              "      background-color: #E2EBFA;\n",
              "      box-shadow: 0px 1px 2px rgba(60, 64, 67, 0.3), 0px 1px 3px 1px rgba(60, 64, 67, 0.15);\n",
              "      fill: #174EA6;\n",
              "    }\n",
              "\n",
              "    [theme=dark] .colab-df-convert {\n",
              "      background-color: #3B4455;\n",
              "      fill: #D2E3FC;\n",
              "    }\n",
              "\n",
              "    [theme=dark] .colab-df-convert:hover {\n",
              "      background-color: #434B5C;\n",
              "      box-shadow: 0px 1px 3px 1px rgba(0, 0, 0, 0.15);\n",
              "      filter: drop-shadow(0px 1px 2px rgba(0, 0, 0, 0.3));\n",
              "      fill: #FFFFFF;\n",
              "    }\n",
              "  </style>\n",
              "\n",
              "      <script>\n",
              "        const buttonEl =\n",
              "          document.querySelector('#df-56a70631-f308-43e9-9f19-c303b0618052 button.colab-df-convert');\n",
              "        buttonEl.style.display =\n",
              "          google.colab.kernel.accessAllowed ? 'block' : 'none';\n",
              "\n",
              "        async function convertToInteractive(key) {\n",
              "          const element = document.querySelector('#df-56a70631-f308-43e9-9f19-c303b0618052');\n",
              "          const dataTable =\n",
              "            await google.colab.kernel.invokeFunction('convertToInteractive',\n",
              "                                                     [key], {});\n",
              "          if (!dataTable) return;\n",
              "\n",
              "          const docLinkHtml = 'Like what you see? Visit the ' +\n",
              "            '<a target=\"_blank\" href=https://colab.research.google.com/notebooks/data_table.ipynb>data table notebook</a>'\n",
              "            + ' to learn more about interactive tables.';\n",
              "          element.innerHTML = '';\n",
              "          dataTable['output_type'] = 'display_data';\n",
              "          await google.colab.output.renderOutput(dataTable, element);\n",
              "          const docLink = document.createElement('div');\n",
              "          docLink.innerHTML = docLinkHtml;\n",
              "          element.appendChild(docLink);\n",
              "        }\n",
              "      </script>\n",
              "    </div>\n",
              "  </div>\n",
              "  "
            ]
          },
          "metadata": {},
          "execution_count": 54
        }
      ]
    },
    {
      "cell_type": "code",
      "source": [
        "df['Pos'].unique()"
      ],
      "metadata": {
        "colab": {
          "base_uri": "https://localhost:8080/"
        },
        "id": "6BTBfPrZpWAB",
        "outputId": "e50c24d6-83ee-41b8-f4bb-a7356abd04b0"
      },
      "execution_count": 55,
      "outputs": [
        {
          "output_type": "execute_result",
          "data": {
            "text/plain": [
              "array(['P', 'OF', '1B', '2B', '1B/OF', 'SS', '3B', 'C', '2B/SS', '2B/3B'],\n",
              "      dtype=object)"
            ]
          },
          "metadata": {},
          "execution_count": 55
        }
      ]
    },
    {
      "cell_type": "code",
      "source": [
        "projection_map = dict(zip(df['Player'], df['Proj']))\n",
        "ownership_map = dict(zip(df['Player'], df['Own']))\n",
        "team_map = dict(zip(df['Player'], df['Team']))\n",
        "salary_map = dict(zip(df['Player'], df['Salary']))\n",
        "actual_map = dict(zip(df['Player'], df['Actual Score']))"
      ],
      "metadata": {
        "id": "QVu_HRdiq8E_"
      },
      "execution_count": 56,
      "outputs": []
    },
    {
      "cell_type": "code",
      "source": [
        "proj_cols = []\n",
        "own_cols = []\n",
        "team_cols = []\n",
        "salary_cols = []\n",
        "actual_cols = []\n",
        "combos_proj_df = pd.DataFrame()\n",
        "combos_own_df = pd.DataFrame()\n",
        "combos_team_df = pd.DataFrame()\n",
        "combos_salary_df = pd.DataFrame()\n",
        "combos_actual_df = pd.DataFrame()"
      ],
      "metadata": {
        "id": "kwmbZxbWrWiE"
      },
      "execution_count": 57,
      "outputs": []
    },
    {
      "cell_type": "code",
      "source": [
        "for pos in combos_df.columns:\n",
        "  combos_proj_df[f'{pos}_Proj'] = combos_df[f'{pos}'].map(projection_map)\n",
        "  proj_cols.append(f'{pos}_Proj')\n",
        "combos_proj_df['Total Proj'] = combos_proj_df[proj_cols].sum(axis=1)"
      ],
      "metadata": {
        "id": "Rj7g_0fs4319"
      },
      "execution_count": 58,
      "outputs": []
    },
    {
      "cell_type": "code",
      "source": [
        "for pos in combos_df.columns:\n",
        "  combos_own_df[f'{pos}_Own'] = combos_df[f'{pos}'].map(ownership_map)\n",
        "  own_cols.append(f'{pos}_Own')\n",
        "combos_own_df['Own Sum'] = combos_own_df[own_cols].sum(axis=1)\n",
        "combos_own_df['Own Product'] = combos_own_df['SP1_Own'] * combos_own_df['SP2_Own']* combos_own_df['C_Own'] * combos_own_df['1B_Own'] * combos_own_df['2B_Own'] * combos_own_df['3B_Own'] * combos_own_df['SS_Own'] * combos_own_df['OF1_Own'] * combos_own_df['OF2_Own'] * combos_own_df['OF3_Own']"
      ],
      "metadata": {
        "id": "8iy3AYYOrkGS"
      },
      "execution_count": 59,
      "outputs": []
    },
    {
      "cell_type": "code",
      "source": [
        "for pos in combos_df.columns:\n",
        "  combos_team_df[f'{pos}_Team'] = combos_df[f'{pos}'].map(team_map).astype('category')\n",
        "  team_cols.append(f'{pos}_Team')\n",
        "hitter_cols = np.array(['C_Team', '1B_Team', '2B_Team', '3B_Team', 'SS_Team', 'OF1_Team', 'OF2_Team', 'OF3_Team'])\n",
        "# How to make this faster? (2 hrs using value_counts)\n",
        "stacks = combos_team_df[hitter_cols].apply(pd.Series.value_counts, axis=1).fillna(0)\n",
        "combos_team_df['Stack Size'] = stacks.max(axis=1)"
      ],
      "metadata": {
        "colab": {
          "base_uri": "https://localhost:8080/",
          "height": 425
        },
        "id": "OgvF7E4hsOGc",
        "outputId": "595fd8a5-7670-4a23-c991-b0011319e954"
      },
      "execution_count": 60,
      "outputs": [
        {
          "output_type": "error",
          "ename": "KeyboardInterrupt",
          "evalue": "ignored",
          "traceback": [
            "\u001b[0;31m---------------------------------------------------------------------------\u001b[0m",
            "\u001b[0;31mKeyboardInterrupt\u001b[0m                         Traceback (most recent call last)",
            "\u001b[0;32m<ipython-input-60-cd8eb0438311>\u001b[0m in \u001b[0;36m<module>\u001b[0;34m()\u001b[0m\n\u001b[1;32m      4\u001b[0m \u001b[0mhitter_cols\u001b[0m \u001b[0;34m=\u001b[0m \u001b[0mnp\u001b[0m\u001b[0;34m.\u001b[0m\u001b[0marray\u001b[0m\u001b[0;34m(\u001b[0m\u001b[0;34m[\u001b[0m\u001b[0;34m'C_Team'\u001b[0m\u001b[0;34m,\u001b[0m \u001b[0;34m'1B_Team'\u001b[0m\u001b[0;34m,\u001b[0m \u001b[0;34m'2B_Team'\u001b[0m\u001b[0;34m,\u001b[0m \u001b[0;34m'3B_Team'\u001b[0m\u001b[0;34m,\u001b[0m \u001b[0;34m'SS_Team'\u001b[0m\u001b[0;34m,\u001b[0m \u001b[0;34m'OF1_Team'\u001b[0m\u001b[0;34m,\u001b[0m \u001b[0;34m'OF2_Team'\u001b[0m\u001b[0;34m,\u001b[0m \u001b[0;34m'OF3_Team'\u001b[0m\u001b[0;34m]\u001b[0m\u001b[0;34m)\u001b[0m\u001b[0;34m\u001b[0m\u001b[0;34m\u001b[0m\u001b[0m\n\u001b[1;32m      5\u001b[0m \u001b[0;31m# How to make this faster? (2 hrs using value_counts)\u001b[0m\u001b[0;34m\u001b[0m\u001b[0;34m\u001b[0m\u001b[0;34m\u001b[0m\u001b[0m\n\u001b[0;32m----> 6\u001b[0;31m \u001b[0mstacks\u001b[0m \u001b[0;34m=\u001b[0m \u001b[0mcombos_team_df\u001b[0m\u001b[0;34m[\u001b[0m\u001b[0mhitter_cols\u001b[0m\u001b[0;34m]\u001b[0m\u001b[0;34m.\u001b[0m\u001b[0mapply\u001b[0m\u001b[0;34m(\u001b[0m\u001b[0mpd\u001b[0m\u001b[0;34m.\u001b[0m\u001b[0mSeries\u001b[0m\u001b[0;34m.\u001b[0m\u001b[0mvalue_counts\u001b[0m\u001b[0;34m,\u001b[0m \u001b[0maxis\u001b[0m\u001b[0;34m=\u001b[0m\u001b[0;36m1\u001b[0m\u001b[0;34m)\u001b[0m\u001b[0;34m.\u001b[0m\u001b[0mfillna\u001b[0m\u001b[0;34m(\u001b[0m\u001b[0;36m0\u001b[0m\u001b[0;34m)\u001b[0m\u001b[0;34m\u001b[0m\u001b[0;34m\u001b[0m\u001b[0m\n\u001b[0m\u001b[1;32m      7\u001b[0m \u001b[0mcombos_team_df\u001b[0m\u001b[0;34m[\u001b[0m\u001b[0;34m'Stack Size'\u001b[0m\u001b[0;34m]\u001b[0m \u001b[0;34m=\u001b[0m \u001b[0mstacks\u001b[0m\u001b[0;34m.\u001b[0m\u001b[0mmax\u001b[0m\u001b[0;34m(\u001b[0m\u001b[0maxis\u001b[0m\u001b[0;34m=\u001b[0m\u001b[0;36m1\u001b[0m\u001b[0;34m)\u001b[0m\u001b[0;34m\u001b[0m\u001b[0;34m\u001b[0m\u001b[0m\n",
            "\u001b[0;32m/usr/local/lib/python3.7/dist-packages/pandas/core/frame.py\u001b[0m in \u001b[0;36mapply\u001b[0;34m(self, func, axis, raw, result_type, args, **kwargs)\u001b[0m\n\u001b[1;32m   8738\u001b[0m             \u001b[0mkwargs\u001b[0m\u001b[0;34m=\u001b[0m\u001b[0mkwargs\u001b[0m\u001b[0;34m,\u001b[0m\u001b[0;34m\u001b[0m\u001b[0;34m\u001b[0m\u001b[0m\n\u001b[1;32m   8739\u001b[0m         )\n\u001b[0;32m-> 8740\u001b[0;31m         \u001b[0;32mreturn\u001b[0m \u001b[0mop\u001b[0m\u001b[0;34m.\u001b[0m\u001b[0mapply\u001b[0m\u001b[0;34m(\u001b[0m\u001b[0;34m)\u001b[0m\u001b[0;34m\u001b[0m\u001b[0;34m\u001b[0m\u001b[0m\n\u001b[0m\u001b[1;32m   8741\u001b[0m \u001b[0;34m\u001b[0m\u001b[0m\n\u001b[1;32m   8742\u001b[0m     def applymap(\n",
            "\u001b[0;32m/usr/local/lib/python3.7/dist-packages/pandas/core/apply.py\u001b[0m in \u001b[0;36mapply\u001b[0;34m(self)\u001b[0m\n\u001b[1;32m    686\u001b[0m             \u001b[0;32mreturn\u001b[0m \u001b[0mself\u001b[0m\u001b[0;34m.\u001b[0m\u001b[0mapply_raw\u001b[0m\u001b[0;34m(\u001b[0m\u001b[0;34m)\u001b[0m\u001b[0;34m\u001b[0m\u001b[0;34m\u001b[0m\u001b[0m\n\u001b[1;32m    687\u001b[0m \u001b[0;34m\u001b[0m\u001b[0m\n\u001b[0;32m--> 688\u001b[0;31m         \u001b[0;32mreturn\u001b[0m \u001b[0mself\u001b[0m\u001b[0;34m.\u001b[0m\u001b[0mapply_standard\u001b[0m\u001b[0;34m(\u001b[0m\u001b[0;34m)\u001b[0m\u001b[0;34m\u001b[0m\u001b[0;34m\u001b[0m\u001b[0m\n\u001b[0m\u001b[1;32m    689\u001b[0m \u001b[0;34m\u001b[0m\u001b[0m\n\u001b[1;32m    690\u001b[0m     \u001b[0;32mdef\u001b[0m \u001b[0magg\u001b[0m\u001b[0;34m(\u001b[0m\u001b[0mself\u001b[0m\u001b[0;34m)\u001b[0m\u001b[0;34m:\u001b[0m\u001b[0;34m\u001b[0m\u001b[0;34m\u001b[0m\u001b[0m\n",
            "\u001b[0;32m/usr/local/lib/python3.7/dist-packages/pandas/core/apply.py\u001b[0m in \u001b[0;36mapply_standard\u001b[0;34m(self)\u001b[0m\n\u001b[1;32m    810\u001b[0m \u001b[0;34m\u001b[0m\u001b[0m\n\u001b[1;32m    811\u001b[0m     \u001b[0;32mdef\u001b[0m \u001b[0mapply_standard\u001b[0m\u001b[0;34m(\u001b[0m\u001b[0mself\u001b[0m\u001b[0;34m)\u001b[0m\u001b[0;34m:\u001b[0m\u001b[0;34m\u001b[0m\u001b[0;34m\u001b[0m\u001b[0m\n\u001b[0;32m--> 812\u001b[0;31m         \u001b[0mresults\u001b[0m\u001b[0;34m,\u001b[0m \u001b[0mres_index\u001b[0m \u001b[0;34m=\u001b[0m \u001b[0mself\u001b[0m\u001b[0;34m.\u001b[0m\u001b[0mapply_series_generator\u001b[0m\u001b[0;34m(\u001b[0m\u001b[0;34m)\u001b[0m\u001b[0;34m\u001b[0m\u001b[0;34m\u001b[0m\u001b[0m\n\u001b[0m\u001b[1;32m    813\u001b[0m \u001b[0;34m\u001b[0m\u001b[0m\n\u001b[1;32m    814\u001b[0m         \u001b[0;31m# wrap results\u001b[0m\u001b[0;34m\u001b[0m\u001b[0;34m\u001b[0m\u001b[0;34m\u001b[0m\u001b[0m\n",
            "\u001b[0;32m/usr/local/lib/python3.7/dist-packages/pandas/core/apply.py\u001b[0m in \u001b[0;36mapply_series_generator\u001b[0;34m(self)\u001b[0m\n\u001b[1;32m    826\u001b[0m             \u001b[0;32mfor\u001b[0m \u001b[0mi\u001b[0m\u001b[0;34m,\u001b[0m \u001b[0mv\u001b[0m \u001b[0;32min\u001b[0m \u001b[0menumerate\u001b[0m\u001b[0;34m(\u001b[0m\u001b[0mseries_gen\u001b[0m\u001b[0;34m)\u001b[0m\u001b[0;34m:\u001b[0m\u001b[0;34m\u001b[0m\u001b[0;34m\u001b[0m\u001b[0m\n\u001b[1;32m    827\u001b[0m                 \u001b[0;31m# ignore SettingWithCopy here in case the user mutates\u001b[0m\u001b[0;34m\u001b[0m\u001b[0;34m\u001b[0m\u001b[0;34m\u001b[0m\u001b[0m\n\u001b[0;32m--> 828\u001b[0;31m                 \u001b[0mresults\u001b[0m\u001b[0;34m[\u001b[0m\u001b[0mi\u001b[0m\u001b[0;34m]\u001b[0m \u001b[0;34m=\u001b[0m \u001b[0mself\u001b[0m\u001b[0;34m.\u001b[0m\u001b[0mf\u001b[0m\u001b[0;34m(\u001b[0m\u001b[0mv\u001b[0m\u001b[0;34m)\u001b[0m\u001b[0;34m\u001b[0m\u001b[0;34m\u001b[0m\u001b[0m\n\u001b[0m\u001b[1;32m    829\u001b[0m                 \u001b[0;32mif\u001b[0m \u001b[0misinstance\u001b[0m\u001b[0;34m(\u001b[0m\u001b[0mresults\u001b[0m\u001b[0;34m[\u001b[0m\u001b[0mi\u001b[0m\u001b[0;34m]\u001b[0m\u001b[0;34m,\u001b[0m \u001b[0mABCSeries\u001b[0m\u001b[0;34m)\u001b[0m\u001b[0;34m:\u001b[0m\u001b[0;34m\u001b[0m\u001b[0;34m\u001b[0m\u001b[0m\n\u001b[1;32m    830\u001b[0m                     \u001b[0;31m# If we have a view on v, we need to make a copy because\u001b[0m\u001b[0;34m\u001b[0m\u001b[0;34m\u001b[0m\u001b[0;34m\u001b[0m\u001b[0m\n",
            "\u001b[0;32m/usr/local/lib/python3.7/dist-packages/pandas/core/base.py\u001b[0m in \u001b[0;36mvalue_counts\u001b[0;34m(self, normalize, sort, ascending, bins, dropna)\u001b[0m\n\u001b[1;32m    964\u001b[0m             \u001b[0mnormalize\u001b[0m\u001b[0;34m=\u001b[0m\u001b[0mnormalize\u001b[0m\u001b[0;34m,\u001b[0m\u001b[0;34m\u001b[0m\u001b[0;34m\u001b[0m\u001b[0m\n\u001b[1;32m    965\u001b[0m             \u001b[0mbins\u001b[0m\u001b[0;34m=\u001b[0m\u001b[0mbins\u001b[0m\u001b[0;34m,\u001b[0m\u001b[0;34m\u001b[0m\u001b[0;34m\u001b[0m\u001b[0m\n\u001b[0;32m--> 966\u001b[0;31m             \u001b[0mdropna\u001b[0m\u001b[0;34m=\u001b[0m\u001b[0mdropna\u001b[0m\u001b[0;34m,\u001b[0m\u001b[0;34m\u001b[0m\u001b[0;34m\u001b[0m\u001b[0m\n\u001b[0m\u001b[1;32m    967\u001b[0m         )\n\u001b[1;32m    968\u001b[0m \u001b[0;34m\u001b[0m\u001b[0m\n",
            "\u001b[0;32m/usr/local/lib/python3.7/dist-packages/pandas/core/algorithms.py\u001b[0m in \u001b[0;36mvalue_counts\u001b[0;34m(values, sort, ascending, normalize, bins, dropna)\u001b[0m\n\u001b[1;32m    862\u001b[0m             \u001b[0mkeys\u001b[0m\u001b[0;34m,\u001b[0m \u001b[0mcounts\u001b[0m \u001b[0;34m=\u001b[0m \u001b[0mvalue_counts_arraylike\u001b[0m\u001b[0;34m(\u001b[0m\u001b[0mvalues\u001b[0m\u001b[0;34m,\u001b[0m \u001b[0mdropna\u001b[0m\u001b[0;34m)\u001b[0m\u001b[0;34m\u001b[0m\u001b[0;34m\u001b[0m\u001b[0m\n\u001b[1;32m    863\u001b[0m \u001b[0;34m\u001b[0m\u001b[0m\n\u001b[0;32m--> 864\u001b[0;31m             \u001b[0mresult\u001b[0m \u001b[0;34m=\u001b[0m \u001b[0mSeries\u001b[0m\u001b[0;34m(\u001b[0m\u001b[0mcounts\u001b[0m\u001b[0;34m,\u001b[0m \u001b[0mindex\u001b[0m\u001b[0;34m=\u001b[0m\u001b[0mkeys\u001b[0m\u001b[0;34m,\u001b[0m \u001b[0mname\u001b[0m\u001b[0;34m=\u001b[0m\u001b[0mname\u001b[0m\u001b[0;34m)\u001b[0m\u001b[0;34m\u001b[0m\u001b[0;34m\u001b[0m\u001b[0m\n\u001b[0m\u001b[1;32m    865\u001b[0m \u001b[0;34m\u001b[0m\u001b[0m\n\u001b[1;32m    866\u001b[0m     \u001b[0;32mif\u001b[0m \u001b[0msort\u001b[0m\u001b[0;34m:\u001b[0m\u001b[0;34m\u001b[0m\u001b[0;34m\u001b[0m\u001b[0m\n",
            "\u001b[0;32m/usr/local/lib/python3.7/dist-packages/pandas/core/series.py\u001b[0m in \u001b[0;36m__init__\u001b[0;34m(self, data, index, dtype, name, copy, fastpath)\u001b[0m\n\u001b[1;32m    441\u001b[0m                 \u001b[0mmanager\u001b[0m \u001b[0;34m=\u001b[0m \u001b[0mget_option\u001b[0m\u001b[0;34m(\u001b[0m\u001b[0;34m\"mode.data_manager\"\u001b[0m\u001b[0;34m)\u001b[0m\u001b[0;34m\u001b[0m\u001b[0;34m\u001b[0m\u001b[0m\n\u001b[1;32m    442\u001b[0m                 \u001b[0;32mif\u001b[0m \u001b[0mmanager\u001b[0m \u001b[0;34m==\u001b[0m \u001b[0;34m\"block\"\u001b[0m\u001b[0;34m:\u001b[0m\u001b[0;34m\u001b[0m\u001b[0;34m\u001b[0m\u001b[0m\n\u001b[0;32m--> 443\u001b[0;31m                     \u001b[0mdata\u001b[0m \u001b[0;34m=\u001b[0m \u001b[0mSingleBlockManager\u001b[0m\u001b[0;34m.\u001b[0m\u001b[0mfrom_array\u001b[0m\u001b[0;34m(\u001b[0m\u001b[0mdata\u001b[0m\u001b[0;34m,\u001b[0m \u001b[0mindex\u001b[0m\u001b[0;34m)\u001b[0m\u001b[0;34m\u001b[0m\u001b[0;34m\u001b[0m\u001b[0m\n\u001b[0m\u001b[1;32m    444\u001b[0m                 \u001b[0;32melif\u001b[0m \u001b[0mmanager\u001b[0m \u001b[0;34m==\u001b[0m \u001b[0;34m\"array\"\u001b[0m\u001b[0;34m:\u001b[0m\u001b[0;34m\u001b[0m\u001b[0;34m\u001b[0m\u001b[0m\n\u001b[1;32m    445\u001b[0m                     \u001b[0mdata\u001b[0m \u001b[0;34m=\u001b[0m \u001b[0mSingleArrayManager\u001b[0m\u001b[0;34m.\u001b[0m\u001b[0mfrom_array\u001b[0m\u001b[0;34m(\u001b[0m\u001b[0mdata\u001b[0m\u001b[0;34m,\u001b[0m \u001b[0mindex\u001b[0m\u001b[0;34m)\u001b[0m\u001b[0;34m\u001b[0m\u001b[0;34m\u001b[0m\u001b[0m\n",
            "\u001b[0;32m/usr/local/lib/python3.7/dist-packages/pandas/core/internals/managers.py\u001b[0m in \u001b[0;36mfrom_array\u001b[0;34m(cls, array, index)\u001b[0m\n\u001b[1;32m   1572\u001b[0m         \u001b[0mConstructor\u001b[0m \u001b[0;32mfor\u001b[0m \u001b[0;32mif\u001b[0m \u001b[0mwe\u001b[0m \u001b[0mhave\u001b[0m \u001b[0man\u001b[0m \u001b[0marray\u001b[0m \u001b[0mthat\u001b[0m \u001b[0;32mis\u001b[0m \u001b[0;32mnot\u001b[0m \u001b[0myet\u001b[0m \u001b[0ma\u001b[0m \u001b[0mBlock\u001b[0m\u001b[0;34m.\u001b[0m\u001b[0;34m\u001b[0m\u001b[0;34m\u001b[0m\u001b[0m\n\u001b[1;32m   1573\u001b[0m         \"\"\"\n\u001b[0;32m-> 1574\u001b[0;31m         \u001b[0mblock\u001b[0m \u001b[0;34m=\u001b[0m \u001b[0mnew_block\u001b[0m\u001b[0;34m(\u001b[0m\u001b[0marray\u001b[0m\u001b[0;34m,\u001b[0m \u001b[0mplacement\u001b[0m\u001b[0;34m=\u001b[0m\u001b[0mslice\u001b[0m\u001b[0;34m(\u001b[0m\u001b[0;36m0\u001b[0m\u001b[0;34m,\u001b[0m \u001b[0mlen\u001b[0m\u001b[0;34m(\u001b[0m\u001b[0mindex\u001b[0m\u001b[0;34m)\u001b[0m\u001b[0;34m)\u001b[0m\u001b[0;34m,\u001b[0m \u001b[0mndim\u001b[0m\u001b[0;34m=\u001b[0m\u001b[0;36m1\u001b[0m\u001b[0;34m)\u001b[0m\u001b[0;34m\u001b[0m\u001b[0;34m\u001b[0m\u001b[0m\n\u001b[0m\u001b[1;32m   1575\u001b[0m         \u001b[0;32mreturn\u001b[0m \u001b[0mcls\u001b[0m\u001b[0;34m(\u001b[0m\u001b[0mblock\u001b[0m\u001b[0;34m,\u001b[0m \u001b[0mindex\u001b[0m\u001b[0;34m)\u001b[0m\u001b[0;34m\u001b[0m\u001b[0;34m\u001b[0m\u001b[0m\n\u001b[1;32m   1576\u001b[0m \u001b[0;34m\u001b[0m\u001b[0m\n",
            "\u001b[0;32m/usr/local/lib/python3.7/dist-packages/pandas/core/internals/blocks.py\u001b[0m in \u001b[0;36mnew_block\u001b[0;34m(values, placement, ndim, klass)\u001b[0m\n\u001b[1;32m   1935\u001b[0m \u001b[0;34m\u001b[0m\u001b[0m\n\u001b[1;32m   1936\u001b[0m     \u001b[0mvalues\u001b[0m\u001b[0;34m,\u001b[0m \u001b[0m_\u001b[0m \u001b[0;34m=\u001b[0m \u001b[0mextract_pandas_array\u001b[0m\u001b[0;34m(\u001b[0m\u001b[0mvalues\u001b[0m\u001b[0;34m,\u001b[0m \u001b[0;32mNone\u001b[0m\u001b[0;34m,\u001b[0m \u001b[0mndim\u001b[0m\u001b[0;34m)\u001b[0m\u001b[0;34m\u001b[0m\u001b[0;34m\u001b[0m\u001b[0m\n\u001b[0;32m-> 1937\u001b[0;31m     \u001b[0mcheck_ndim\u001b[0m\u001b[0;34m(\u001b[0m\u001b[0mvalues\u001b[0m\u001b[0;34m,\u001b[0m \u001b[0mplacement\u001b[0m\u001b[0;34m,\u001b[0m \u001b[0mndim\u001b[0m\u001b[0;34m)\u001b[0m\u001b[0;34m\u001b[0m\u001b[0;34m\u001b[0m\u001b[0m\n\u001b[0m\u001b[1;32m   1938\u001b[0m \u001b[0;34m\u001b[0m\u001b[0m\n\u001b[1;32m   1939\u001b[0m     \u001b[0;32mif\u001b[0m \u001b[0mklass\u001b[0m \u001b[0;32mis\u001b[0m \u001b[0;32mNone\u001b[0m\u001b[0;34m:\u001b[0m\u001b[0;34m\u001b[0m\u001b[0;34m\u001b[0m\u001b[0m\n",
            "\u001b[0;32m/usr/local/lib/python3.7/dist-packages/pandas/core/internals/blocks.py\u001b[0m in \u001b[0;36mcheck_ndim\u001b[0;34m(values, placement, ndim)\u001b[0m\n\u001b[1;32m   1976\u001b[0m                 \u001b[0;34mf\"values.ndim != ndim [{values.ndim} != {ndim}]\"\u001b[0m\u001b[0;34m\u001b[0m\u001b[0;34m\u001b[0m\u001b[0m\n\u001b[1;32m   1977\u001b[0m             )\n\u001b[0;32m-> 1978\u001b[0;31m         \u001b[0;32mif\u001b[0m \u001b[0mlen\u001b[0m\u001b[0;34m(\u001b[0m\u001b[0mplacement\u001b[0m\u001b[0;34m)\u001b[0m \u001b[0;34m!=\u001b[0m \u001b[0mlen\u001b[0m\u001b[0;34m(\u001b[0m\u001b[0mvalues\u001b[0m\u001b[0;34m)\u001b[0m\u001b[0;34m:\u001b[0m\u001b[0;34m\u001b[0m\u001b[0;34m\u001b[0m\u001b[0m\n\u001b[0m\u001b[1;32m   1979\u001b[0m             raise ValueError(\n\u001b[1;32m   1980\u001b[0m                 \u001b[0;34mf\"Wrong number of items passed {len(values)}, \"\u001b[0m\u001b[0;34m\u001b[0m\u001b[0;34m\u001b[0m\u001b[0m\n",
            "\u001b[0;31mKeyboardInterrupt\u001b[0m: "
          ]
        }
      ]
    },
    {
      "cell_type": "code",
      "source": [
        "for pos in combos_df.columns:\n",
        "  combos_salary_df[f'{pos}_Salary'] = combos_df[f'{pos}'].map(salary_map)\n",
        "  salary_cols.append(f'{pos}_Salary')\n",
        "combos_salary_df['Salary Cap'] = combos_salary_df[salary_cols].sum(axis=1)"
      ],
      "metadata": {
        "id": "RYMXOiVuvtCR"
      },
      "execution_count": null,
      "outputs": []
    },
    {
      "cell_type": "code",
      "source": [
        "for pos in combos_df.columns:\n",
        "  combos_actual_df[f'{pos}_Actual'] = combos_df[f'{pos}'].map(actual_map)\n",
        "  actual_cols.append(f'{pos}_Actual')\n",
        "combos_actual_df['Total Actual'] = combos_actual_df[actual_cols].sum(axis=1)"
      ],
      "metadata": {
        "id": "lKUjHVmLGbJ_"
      },
      "execution_count": null,
      "outputs": []
    },
    {
      "cell_type": "code",
      "source": [
        "combos_df = pd.concat([combos_df, combos_proj_df, combos_own_df, combos_team_df, combos_salary_df, combos_actual_df], axis=1)"
      ],
      "metadata": {
        "id": "kaFMxEDo0dMz"
      },
      "execution_count": null,
      "outputs": []
    },
    {
      "cell_type": "code",
      "source": [
        "combos_df.head()"
      ],
      "metadata": {
        "id": "t_KEKfqx15KR"
      },
      "execution_count": null,
      "outputs": []
    },
    {
      "cell_type": "code",
      "source": [
        "df['Pos'].unique()"
      ],
      "metadata": {
        "id": "iCx-BmyoIAIh"
      },
      "execution_count": null,
      "outputs": []
    },
    {
      "cell_type": "code",
      "source": [
        "### Impose lineup restrictions\n",
        "\n",
        "# Salary Cap <= $50,000\n",
        "combos_df = combos_df[combos_df['Salary Cap'] <= 50000]\n",
        "\n",
        "# Hitter Stack Size <= 5\n",
        "combos_df = combos_df[combos_df['Stack Size'] <= 5]\n",
        "\n",
        "# Address multi-position eligibility (same player used more than once in lineup)\n",
        "combos_df['Total Proj'] = np.where(combos_df['1B'] == combos_df['OF1'],0,combos_df['Total Proj'])\n",
        "combos_df['Total Proj'] = np.where(combos_df['1B'] == combos_df['OF2'],0,combos_df['Total Proj'])\n",
        "combos_df['Total Proj'] = np.where(combos_df['1B'] == combos_df['OF3'],0,combos_df['Total Proj'])\n",
        "combos_df['Total Proj'] = np.where(combos_df['2B'] == combos_df['3B'],0,combos_df['Total Proj'])\n",
        "combos_df['Total Proj'] = np.where(combos_df['2B'] == combos_df['SS'],0,combos_df['Total Proj'])"
      ],
      "metadata": {
        "id": "6GiIcqHg1a2F"
      },
      "execution_count": null,
      "outputs": []
    },
    {
      "cell_type": "code",
      "source": [
        "combos_df.head()"
      ],
      "metadata": {
        "id": "zioCmBDIFP2S"
      },
      "execution_count": null,
      "outputs": []
    },
    {
      "cell_type": "code",
      "source": [
        "final_combos = combos_df.loc[:,['Total Proj', 'Own Sum', 'Own Product', 'Total Actual', 'Salary Cap']]\n",
        "final_combos.sort_values(by='Total Proj', ascending=False).head()"
      ],
      "metadata": {
        "id": "nsqxcow9FWHG"
      },
      "execution_count": null,
      "outputs": []
    },
    {
      "cell_type": "code",
      "source": [
        ""
      ],
      "metadata": {
        "id": "EjWMBUu_GDrv"
      },
      "execution_count": null,
      "outputs": []
    }
  ]
}